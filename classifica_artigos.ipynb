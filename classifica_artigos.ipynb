{
 "cells": [
  {
   "cell_type": "code",
   "execution_count": 45,
   "metadata": {},
   "outputs": [],
   "source": [
    "from google.cloud import firestore\n",
    "import gcsfs\n",
    "import pickle5 as pickle\n",
    "import textblob\n",
    "import nltk"
   ]
  },
  {
   "cell_type": "code",
   "execution_count": 22,
   "metadata": {},
   "outputs": [
    {
     "name": "stdout",
     "output_type": "stream",
     "text": [
      "env: GOOGLE_APPLICATION_CREDENTIALS=\"/Users/marcelcanhisares/Development/each/covid-news/keys/covid-news-a9d0938c837d.json\"\n"
     ]
    }
   ],
   "source": [
    "%env GOOGLE_APPLICATION_CREDENTIALS=\"/Users/marcelcanhisares/Development/each/covid-news/keys/covid-news-a9d0938c837d.json\""
   ]
  },
  {
   "cell_type": "code",
   "execution_count": 23,
   "metadata": {},
   "outputs": [],
   "source": [
    "DB = firestore.Client.from_service_account_json(\"/Users/marcelcanhisares/Development/each/covid-news/keys/covid-news-a9d0938c837d.json\")"
   ]
  },
  {
   "cell_type": "code",
   "execution_count": 31,
   "metadata": {},
   "outputs": [],
   "source": [
    "KEYWORDS = [\"corona\", \"covid\", \"pandemia\", \"SARS\", \"covid-19\"]\n",
    "\n",
    "STOP_WORDS = [ 'a', 'à', 'agora', 'ainda', 'alguém', 'algum', 'alguma', 'algumas', 'alguns', 'ampla', 'amplas', 'amplo', 'amplos', 'ante', 'antes', 'ao', 'aos', 'após', 'aquela', 'aquelas', 'aquele', 'aqueles', 'aquilo', 'as', 'às', 'até', 'através', 'cada', 'coisa', 'coisas', 'com', 'como', 'contra', 'contudo', 'da', 'daquele', 'daqueles', 'das', 'de', 'dela', 'delas', 'dele', 'deles', 'depois', 'dessa', 'dessas', 'desse', 'desses', 'desta', 'destas', 'deste', 'destes', 'deve', 'devem', 'devendo', 'dever', 'deverá', 'deverão', 'deveria', 'deveriam', 'devia', 'deviam', 'disse', 'disso', 'disto', 'dito', 'diz', 'dizem', 'do', 'dos','e','é','ela','elas','ele','eles','em','entre','era','eram','éramos','essa','essas','esse','esses','esta','está','estamos','estão','estas','estava','estavam','estávamos','este','esteja','estejam','estejamos','estes','esteve','estive','estivemos','estiver','estivera','estiveram','estivéramos','estiverem','estivermos','estivesse','estivessem','estivéssemos','estou','eu','foi','fomos','for','fora','foram','fôramos','forem','formos','fosse','fossem','fôssemos','fui','há','haja','hajam','hajamos','hão','havemos','havia','hei','houve','houvemos','houver','houvera','houverá','houveram','houvéramos','houverão','houverei','houverem','houveremos','houveria','houveriam','houveríamos','houvermos','houvesse','houvessem','houvéssemos','isso','isto','já','lhe','lhes','mais','mas','me','mesmo','meu','meus','minha','minhas','muito','na','não','nas','nem','no','nos','nós','nossa','nossas','nosso','nossos','num','numa','o','os','ou','para','pela','pelas','pelo','pelos','por','qual','quando','que','quem','são','se','seja','sejam','sejamos','sem','ser','será','serão','serei','seremos','seria','seriam','seríamos','seu','seus','só','sobre','somos','sou','sua','suas','também','te','tem','têm','temos','tenha','tenham','tenhamos','tenho','ter','terá','terão','terei','teremos','teria','teriam','teríamos','teu','teus','teve','tinha','tinham','tínhamos','tive','tivemos','tiver','tivera','tiveram','tivéramos','tiverem','tivermos','tivesse','tivessem','tivéssemos','tu','tua','tuas','um','uma','você','vocês','vos']\n"
   ]
  },
  {
   "cell_type": "code",
   "execution_count": 24,
   "metadata": {},
   "outputs": [],
   "source": [
    "fs = gcsfs.GCSFileSystem(token=\"/Users/marcelcanhisares/Development/each/covid-news/keys/covid-news-a9d0938c837d.json\", project=\"covid-news-291320\")"
   ]
  },
  {
   "cell_type": "code",
   "execution_count": 25,
   "metadata": {},
   "outputs": [],
   "source": [
    "def getClassifier():\n",
    "    directory = \"covid-news-291320.appspot.com\"\n",
    "    filename = \"Classificador.pickle\"\n",
    "    with fs.open(directory + '/' + filename, 'rb') as handle:\n",
    "        return pickle.load(handle)"
   ]
  },
  {
   "cell_type": "code",
   "execution_count": 53,
   "metadata": {},
   "outputs": [],
   "source": [
    "document = DB.collection('articles').document('0006126928ebb6f907e325da8a67b3944a6d1f07540639d03d1268f0edaca0f3')"
   ]
  },
  {
   "cell_type": "code",
   "execution_count": 55,
   "metadata": {},
   "outputs": [
    {
     "data": {
      "text/plain": [
       "{'publishedAt': '2020-10-23T18:27:30Z',\n",
       " 'category': None,\n",
       " 'title': 'Coronavírus: por que a covid-19 mata tanto? - BBC News Brasil',\n",
       " 'url': 'https://www.bbc.com/portuguese/geral-54658766',\n",
       " 'author': 'https://www.facebook.com/bbcnews',\n",
       " 'description': 'Por que a biologia do coronavírus faz com que ele represente uma ameaça à vida humana?',\n",
       " 'urlToImage': 'https://ichef.bbci.co.uk/news/1024/branded_portuguese/D505/production/_115033545_gettyimages-1226314512.jpg',\n",
       " 'articleId': '0006126928ebb6f907e325da8a67b3944a6d1f07540639d03d1268f0edaca0f3'}"
      ]
     },
     "execution_count": 55,
     "metadata": {},
     "output_type": "execute_result"
    }
   ],
   "source": [
    "document.get().to_dict()"
   ]
  },
  {
   "cell_type": "code",
   "execution_count": 26,
   "metadata": {},
   "outputs": [],
   "source": [
    "collection = DB.collection('articles').stream()"
   ]
  },
  {
   "cell_type": "code",
   "execution_count": 27,
   "metadata": {},
   "outputs": [],
   "source": [
    "articlesDocs = []\n",
    "for document in collection:\n",
    "    articlesDocs.append(document.to_dict())"
   ]
  },
  {
   "cell_type": "code",
   "execution_count": 30,
   "metadata": {},
   "outputs": [],
   "source": [
    "def removeArticleSource(text:str):\n",
    "\tindex = text.rfind('-')\t\n",
    "\treturn text[:index - 1] if index > 1 else text"
   ]
  },
  {
   "cell_type": "code",
   "execution_count": 33,
   "metadata": {},
   "outputs": [],
   "source": [
    "def removeStopWords(text: str):\n",
    "\tsplitedResults = []\t\n",
    "\tsplited = text.split()\n",
    "\tfor word in splited:\n",
    "\t\tif word not in STOP_WORDS and word not in KEYWORDS:\n",
    "\t\t\tsplitedResults.append(word)\n",
    "\treturn splitedResults"
   ]
  },
  {
   "cell_type": "code",
   "execution_count": 32,
   "metadata": {},
   "outputs": [],
   "source": [
    "def stemWords(words):\t\n",
    "\tstemmedWords = []\n",
    "\tstemmer = nltk.stem.RSLPStemmer()\n",
    "\tfor word in words:\n",
    "\t\tstemmedWords.append(stemmer.stem(word))\n",
    "\treturn stemmedWords"
   ]
  },
  {
   "cell_type": "code",
   "execution_count": 36,
   "metadata": {},
   "outputs": [],
   "source": [
    "def classifyText(classifier, text):\n",
    "    words = removeStopWords(text)\n",
    "    stemmedWords = stemWords(words)\n",
    "    textToClassify = \" \".join(stemmedWords)\n",
    "    return classifier.classify(textToClassify)"
   ]
  },
  {
   "cell_type": "code",
   "execution_count": null,
   "metadata": {},
   "outputs": [],
   "source": [
    "classifier = getClassifier()"
   ]
  },
  {
   "cell_type": "code",
   "execution_count": 56,
   "metadata": {},
   "outputs": [],
   "source": [
    "def updateDocument(item_id, field_updates):\n",
    "    doc = DB.collection('articles').document(item_id)\n",
    "    doc.update(field_updates)"
   ]
  },
  {
   "cell_type": "code",
   "execution_count": 57,
   "metadata": {},
   "outputs": [],
   "source": [
    "for article in articlesDocs:\n",
    "    if article[\"category\"] is None:\n",
    "        field_updates = {}        \n",
    "        field_updates[\"title\"] = removeArticleSource(article[\"title\"])\n",
    "        field_updates[\"category\"] = classifyText(classifier, article[\"title\"])\n",
    "        updateDocument(article[\"articleId\"], field_updates)"
   ]
  },
  {
   "cell_type": "code",
   "execution_count": 52,
   "metadata": {},
   "outputs": [
    {
     "data": {
      "text/plain": [
       "{'category': None,\n",
       " 'title': 'Coronavírus: por que a covid-19 mata tanto? - BBC News Brasil',\n",
       " 'url': 'https://www.bbc.com/portuguese/geral-54658766',\n",
       " 'author': 'https://www.facebook.com/bbcnews',\n",
       " 'description': 'Por que a biologia do coronavírus faz com que ele represente uma ameaça à vida humana?',\n",
       " 'urlToImage': 'https://ichef.bbci.co.uk/news/1024/branded_portuguese/D505/production/_115033545_gettyimages-1226314512.jpg',\n",
       " 'articleId': '0006126928ebb6f907e325da8a67b3944a6d1f07540639d03d1268f0edaca0f3',\n",
       " 'publishedAt': '2020-10-23T18:27:30Z'}"
      ]
     },
     "execution_count": 52,
     "metadata": {},
     "output_type": "execute_result"
    }
   ],
   "source": [
    "articlesDocs[1]"
   ]
  },
  {
   "cell_type": "code",
   "execution_count": 46,
   "metadata": {},
   "outputs": [
    {
     "data": {
      "text/plain": [
       "'politica'"
      ]
     },
     "execution_count": 46,
     "metadata": {},
     "output_type": "execute_result"
    }
   ],
   "source": [
    "classifyText(classifier, articlesDocs[1][\"title\"])"
   ]
  },
  {
   "cell_type": "code",
   "execution_count": null,
   "metadata": {},
   "outputs": [],
   "source": []
  }
 ],
 "metadata": {
  "kernelspec": {
   "display_name": "Python [conda env:root] *",
   "language": "python",
   "name": "conda-root-py"
  },
  "language_info": {
   "codemirror_mode": {
    "name": "ipython",
    "version": 3
   },
   "file_extension": ".py",
   "mimetype": "text/x-python",
   "name": "python",
   "nbconvert_exporter": "python",
   "pygments_lexer": "ipython3",
   "version": "3.7.4"
  }
 },
 "nbformat": 4,
 "nbformat_minor": 4
}
